{
 "cells": [
  {
   "cell_type": "markdown",
   "id": "cd8b1094-5794-4bc7-9110-3481191cf7bd",
   "metadata": {},
   "source": [
    "### Importing library"
   ]
  },
  {
   "cell_type": "code",
   "execution_count": 1,
   "id": "8a48af8e-1dd8-482c-b87c-e5ebf04acc5d",
   "metadata": {},
   "outputs": [],
   "source": [
    "import torch\n",
    "import pandas as pd\n",
    "import torch.nn as nn\n",
    "import matplotlib.pyplot as plt\n",
    "from sklearn.model_selection import train_test_split\n",
    "from sklearn.metrics import mean_absolute_error"
   ]
  },
  {
   "cell_type": "markdown",
   "id": "8f8435cc-26d6-40ee-808f-9c7f02847131",
   "metadata": {},
   "source": [
    "### Loading the dataset"
   ]
  },
  {
   "cell_type": "code",
   "execution_count": 2,
   "id": "70db7dde-768e-4747-b8e7-967df83362c7",
   "metadata": {},
   "outputs": [
    {
     "data": {
      "text/html": [
       "<div>\n",
       "<style scoped>\n",
       "    .dataframe tbody tr th:only-of-type {\n",
       "        vertical-align: middle;\n",
       "    }\n",
       "\n",
       "    .dataframe tbody tr th {\n",
       "        vertical-align: top;\n",
       "    }\n",
       "\n",
       "    .dataframe thead th {\n",
       "        text-align: right;\n",
       "    }\n",
       "</style>\n",
       "<table border=\"1\" class=\"dataframe\">\n",
       "  <thead>\n",
       "    <tr style=\"text-align: right;\">\n",
       "      <th></th>\n",
       "      <th>x</th>\n",
       "      <th>y</th>\n",
       "      <th>x_m</th>\n",
       "      <th>y_m</th>\n",
       "      <th>deviation</th>\n",
       "    </tr>\n",
       "  </thead>\n",
       "  <tbody>\n",
       "    <tr>\n",
       "      <th>0</th>\n",
       "      <td>511.3638</td>\n",
       "      <td>-19.0811</td>\n",
       "      <td>511.3442</td>\n",
       "      <td>´-19.0409</td>\n",
       "      <td>0.0447</td>\n",
       "    </tr>\n",
       "    <tr>\n",
       "      <th>1</th>\n",
       "      <td>512.3229</td>\n",
       "      <td>-19.0894</td>\n",
       "      <td>512.3169</td>\n",
       "      <td>-19.0784</td>\n",
       "      <td>0.0125</td>\n",
       "    </tr>\n",
       "    <tr>\n",
       "      <th>2</th>\n",
       "      <td>513.2820</td>\n",
       "      <td>-19.0977</td>\n",
       "      <td>513.2945</td>\n",
       "      <td>-19.1184</td>\n",
       "      <td>0.0242</td>\n",
       "    </tr>\n",
       "    <tr>\n",
       "      <th>3</th>\n",
       "      <td>514.2654</td>\n",
       "      <td>-19.1060</td>\n",
       "      <td>514.3004</td>\n",
       "      <td>-19.1570</td>\n",
       "      <td>0.0618</td>\n",
       "    </tr>\n",
       "    <tr>\n",
       "      <th>4</th>\n",
       "      <td>515.3302</td>\n",
       "      <td>-19.1225</td>\n",
       "      <td>515.3616</td>\n",
       "      <td>-19.1619</td>\n",
       "      <td>0.0504</td>\n",
       "    </tr>\n",
       "  </tbody>\n",
       "</table>\n",
       "</div>"
      ],
      "text/plain": [
       "          x        y       x_m        y_m  deviation\n",
       "0  511.3638 -19.0811  511.3442  ´-19.0409     0.0447\n",
       "1  512.3229 -19.0894  512.3169   -19.0784     0.0125\n",
       "2  513.2820 -19.0977  513.2945   -19.1184     0.0242\n",
       "3  514.2654 -19.1060  514.3004   -19.1570     0.0618\n",
       "4  515.3302 -19.1225  515.3616   -19.1619     0.0504"
      ]
     },
     "execution_count": 2,
     "metadata": {},
     "output_type": "execute_result"
    }
   ],
   "source": [
    "df = pd.read_excel(\"new_dataset.xlsx\")\n",
    "df.head()"
   ]
  },
  {
   "cell_type": "markdown",
   "id": "06ed0674-e722-4403-8e0d-a13752235c95",
   "metadata": {},
   "source": [
    "### Checking each column information"
   ]
  },
  {
   "cell_type": "code",
   "execution_count": 3,
   "id": "9d5d863c-d1a7-4d9f-a3e1-45529adbf165",
   "metadata": {},
   "outputs": [
    {
     "name": "stdout",
     "output_type": "stream",
     "text": [
      "<class 'pandas.core.frame.DataFrame'>\n",
      "RangeIndex: 50 entries, 0 to 49\n",
      "Data columns (total 5 columns):\n",
      " #   Column     Non-Null Count  Dtype  \n",
      "---  ------     --------------  -----  \n",
      " 0   x          50 non-null     float64\n",
      " 1   y          50 non-null     float64\n",
      " 2   x_m        50 non-null     float64\n",
      " 3   y_m        50 non-null     object \n",
      " 4   deviation  50 non-null     float64\n",
      "dtypes: float64(4), object(1)\n",
      "memory usage: 2.1+ KB\n"
     ]
    }
   ],
   "source": [
    "df.info()"
   ]
  },
  {
   "cell_type": "markdown",
   "id": "1667e236-e0fd-43af-aacd-e35adcc48656",
   "metadata": {},
   "source": [
    "### Data Preprocessing "
   ]
  },
  {
   "cell_type": "code",
   "execution_count": 4,
   "id": "00bc1d0a-0c21-4013-a313-aa7356f756fb",
   "metadata": {},
   "outputs": [
    {
     "name": "stderr",
     "output_type": "stream",
     "text": [
      "C:\\Users\\User\\AppData\\Local\\Temp\\ipykernel_880\\217937347.py:2: SettingWithCopyWarning: \n",
      "A value is trying to be set on a copy of a slice from a DataFrame\n",
      "\n",
      "See the caveats in the documentation: https://pandas.pydata.org/pandas-docs/stable/user_guide/indexing.html#returning-a-view-versus-a-copy\n",
      "  df['y_m'][0] = -19.0409\n"
     ]
    }
   ],
   "source": [
    "# we converted the y_m column string type value into numeric type value\n",
    "df['y_m'][0] = -19.0409\n",
    "df['y_m'] = df['y_m'].astype(float)"
   ]
  },
  {
   "cell_type": "markdown",
   "id": "c6fa4f41-da5c-4f72-90f5-4055dab78aec",
   "metadata": {},
   "source": [
    "### Seperating the train and test data"
   ]
  },
  {
   "cell_type": "code",
   "execution_count": 5,
   "id": "ab960136-c8ac-4181-8827-6c045d56b1b7",
   "metadata": {},
   "outputs": [],
   "source": [
    "input_data = torch.Tensor(df.iloc[:,:-1].values)\n",
    "target_data = torch.Tensor(df.iloc[:, -1].values)\n",
    "X_train, X_test, y_train, y_test = train_test_split(input_data, target_data, test_size=0.33, random_state=42)"
   ]
  },
  {
   "cell_type": "markdown",
   "id": "40ec8207-6b9c-47c1-8737-7b32c89ef14d",
   "metadata": {},
   "source": [
    "### Making the Pytorch model"
   ]
  },
  {
   "cell_type": "code",
   "execution_count": 6,
   "id": "de078eb4-6404-4da3-af62-d983c6017656",
   "metadata": {},
   "outputs": [],
   "source": [
    "\n",
    "class MyModel(nn.Module):\n",
    "    def __init__(self):\n",
    "        super(MyModel, self).__init__()\n",
    "        self.layer1 = nn.Linear(4, 8)\n",
    "        self.layer2 = nn.Linear(8, 1)\n",
    "\n",
    "    def forward(self, x):\n",
    "        x = self.layer1(x)\n",
    "        x = torch.relu(x)\n",
    "        x = self.layer2(x)\n",
    "        return x"
   ]
  },
  {
   "cell_type": "markdown",
   "id": "1f570cf7-0b04-44b8-90e3-6b0c1e2ab2f8",
   "metadata": {},
   "source": [
    "### Compiling the model"
   ]
  },
  {
   "cell_type": "code",
   "execution_count": 7,
   "id": "357b2d92-7f54-478b-a025-68d57fea399f",
   "metadata": {},
   "outputs": [],
   "source": [
    "model = MyModel()\n",
    "criterion = nn.MSELoss()\n",
    "optimizer = torch.optim.Adam(model.parameters())"
   ]
  },
  {
   "cell_type": "markdown",
   "id": "80732ddd-bb29-4b29-a2e8-c91cbe59091b",
   "metadata": {},
   "source": [
    "### Training the Model over 500 epochs"
   ]
  },
  {
   "cell_type": "code",
   "execution_count": 8,
   "id": "2cbb710e-e84f-45ed-aeec-81d2c51af272",
   "metadata": {
    "scrolled": true,
    "tags": []
   },
   "outputs": [
    {
     "name": "stderr",
     "output_type": "stream",
     "text": [
      "C:\\Users\\User\\anaconda3\\envs\\TattoExtractor\\lib\\site-packages\\torch\\nn\\modules\\loss.py:520: UserWarning: Using a target size (torch.Size([33])) that is different to the input size (torch.Size([33, 1])). This will likely lead to incorrect results due to broadcasting. Please ensure they have the same size.\n",
      "  return F.mse_loss(input, target, reduction=self.reduction)\n"
     ]
    },
    {
     "name": "stdout",
     "output_type": "stream",
     "text": [
      "Epoch 0, Loss: 205.1259307861328\n",
      "Epoch 10, Loss: 6.547366142272949\n",
      "Epoch 20, Loss: 11.949485778808594\n",
      "Epoch 30, Loss: 2.8631017208099365\n",
      "Epoch 40, Loss: 1.555451512336731\n",
      "Epoch 50, Loss: 0.8450368642807007\n",
      "Epoch 60, Loss: 0.6465712785720825\n",
      "Epoch 70, Loss: 0.4983384907245636\n",
      "Epoch 80, Loss: 0.5073537230491638\n",
      "Epoch 90, Loss: 0.4725472927093506\n",
      "Epoch 100, Loss: 0.47547411918640137\n",
      "Epoch 110, Loss: 0.47111013531684875\n",
      "Epoch 120, Loss: 0.46913328766822815\n",
      "Epoch 130, Loss: 0.46802157163619995\n",
      "Epoch 140, Loss: 0.46654894948005676\n",
      "Epoch 150, Loss: 0.465172678232193\n",
      "Epoch 160, Loss: 0.463793009519577\n",
      "Epoch 170, Loss: 0.4623591899871826\n",
      "Epoch 180, Loss: 0.46089115738868713\n",
      "Epoch 190, Loss: 0.4593881666660309\n",
      "Epoch 200, Loss: 0.4578506350517273\n",
      "Epoch 210, Loss: 0.4562770426273346\n",
      "Epoch 220, Loss: 0.4546721577644348\n",
      "Epoch 230, Loss: 0.45303457975387573\n",
      "Epoch 240, Loss: 0.4513678550720215\n",
      "Epoch 250, Loss: 0.44967278838157654\n",
      "Epoch 260, Loss: 0.44794905185699463\n",
      "Epoch 270, Loss: 0.446198970079422\n",
      "Epoch 280, Loss: 0.44442376494407654\n",
      "Epoch 290, Loss: 0.4426235556602478\n",
      "Epoch 300, Loss: 0.4407999813556671\n",
      "Epoch 310, Loss: 0.43895429372787476\n",
      "Epoch 320, Loss: 0.4370858669281006\n",
      "Epoch 330, Loss: 0.43519720435142517\n",
      "Epoch 340, Loss: 0.43328869342803955\n",
      "Epoch 350, Loss: 0.43136119842529297\n",
      "Epoch 360, Loss: 0.42941540479660034\n",
      "Epoch 370, Loss: 0.42745357751846313\n",
      "Epoch 380, Loss: 0.4254736304283142\n",
      "Epoch 390, Loss: 0.4234784245491028\n",
      "Epoch 400, Loss: 0.4214683473110199\n",
      "Epoch 410, Loss: 0.41944411396980286\n",
      "Epoch 420, Loss: 0.4174065589904785\n",
      "Epoch 430, Loss: 0.4153556823730469\n",
      "Epoch 440, Loss: 0.4132923483848572\n",
      "Epoch 450, Loss: 0.41121628880500793\n",
      "Epoch 460, Loss: 0.40913257002830505\n",
      "Epoch 470, Loss: 0.40703803300857544\n",
      "Epoch 480, Loss: 0.4049327075481415\n",
      "Epoch 490, Loss: 0.4028187096118927\n"
     ]
    }
   ],
   "source": [
    "losses = []\n",
    "\n",
    "for epoch in range(500):\n",
    "    \n",
    "    # Forward pass\n",
    "    output = model(X_train)\n",
    "    \n",
    "    # Compute loss\n",
    "    loss = criterion(output, y_train)\n",
    "    \n",
    "    # Backward pass and update\n",
    "    optimizer.zero_grad()\n",
    "    loss.backward()\n",
    "    optimizer.step()\n",
    "    \n",
    "    # Print loss\n",
    "    if epoch % 10 == 0:\n",
    "        losses.append(int(loss.item()))\n",
    "        print(f'Epoch {epoch}, Loss: {loss.item()}')"
   ]
  },
  {
   "cell_type": "markdown",
   "id": "3295aecb-2fbe-4479-b288-6bc09b327ef7",
   "metadata": {},
   "source": [
    "### Model training Loss rate at each iteration"
   ]
  },
  {
   "cell_type": "code",
   "execution_count": 9,
   "id": "b8dd73bf-0b8e-4946-84e6-1059f21afb23",
   "metadata": {},
   "outputs": [
    {
     "data": {
      "text/plain": [
       "[<matplotlib.lines.Line2D at 0x1ebfac4ebe0>]"
      ]
     },
     "execution_count": 9,
     "metadata": {},
     "output_type": "execute_result"
    },
    {
     "data": {
      "image/png": "[encoded data removed]",
      "text/plain": [
       "<Figure size 640x480 with 1 Axes>"
      ]
     },
     "metadata": {},
     "output_type": "display_data"
    }
   ],
   "source": [
    "plt.plot(losses)\n",
    "# losses"
   ]
  },
  {
   "cell_type": "markdown",
   "id": "bfc42d04-8d7c-4ef6-ba41-4d0c39f9b86d",
   "metadata": {},
   "source": [
    "### Evaluating the model over the test data"
   ]
  },
  {
   "cell_type": "code",
   "execution_count": 10,
   "id": "5849fdcc-e675-4465-8646-f9bddabce949",
   "metadata": {},
   "outputs": [
    {
     "name": "stdout",
     "output_type": "stream",
     "text": [
      "MSE over the model prediction: 0.5074741436606821\n"
     ]
    }
   ],
   "source": [
    "y_pred = model(X_test)\n",
    "print(f\"MSE over the model prediction: {mean_absolute_error(y_test.tolist(), y_pred.tolist())}\")"
   ]
  },
  {
   "cell_type": "markdown",
   "id": "661ebebd-4cd7-4967-912f-5252c13e6a4c",
   "metadata": {},
   "source": [
    "### Testing over the test data"
   ]
  },
  {
   "cell_type": "code",
   "execution_count": 26,
   "id": "1dca87a7-72ee-4fa9-aa14-3a72a6ab897b",
   "metadata": {},
   "outputs": [
    {
     "data": {
      "text/html": [
       "<div>\n",
       "<style scoped>\n",
       "    .dataframe tbody tr th:only-of-type {\n",
       "        vertical-align: middle;\n",
       "    }\n",
       "\n",
       "    .dataframe tbody tr th {\n",
       "        vertical-align: top;\n",
       "    }\n",
       "\n",
       "    .dataframe thead th {\n",
       "        text-align: right;\n",
       "    }\n",
       "</style>\n",
       "<table border=\"1\" class=\"dataframe\">\n",
       "  <thead>\n",
       "    <tr style=\"text-align: right;\">\n",
       "      <th></th>\n",
       "      <th>x</th>\n",
       "      <th>y</th>\n",
       "      <th>x_m</th>\n",
       "      <th>y_m</th>\n",
       "    </tr>\n",
       "  </thead>\n",
       "  <tbody>\n",
       "    <tr>\n",
       "      <th>0</th>\n",
       "      <td>296.9877</td>\n",
       "      <td>-12.4357</td>\n",
       "      <td>296.9878</td>\n",
       "      <td>-12.4534</td>\n",
       "    </tr>\n",
       "    <tr>\n",
       "      <th>1</th>\n",
       "      <td>292.9826</td>\n",
       "      <td>-12.4413</td>\n",
       "      <td>292.9826</td>\n",
       "      <td>-12.4551</td>\n",
       "    </tr>\n",
       "    <tr>\n",
       "      <th>2</th>\n",
       "      <td>288.9774</td>\n",
       "      <td>-12.4470</td>\n",
       "      <td>288.9775</td>\n",
       "      <td>-12.4650</td>\n",
       "    </tr>\n",
       "    <tr>\n",
       "      <th>3</th>\n",
       "      <td>284.9723</td>\n",
       "      <td>-12.4526</td>\n",
       "      <td>284.9722</td>\n",
       "      <td>-12.3927</td>\n",
       "    </tr>\n",
       "    <tr>\n",
       "      <th>4</th>\n",
       "      <td>280.9671</td>\n",
       "      <td>-12.4583</td>\n",
       "      <td>280.9670</td>\n",
       "      <td>-12.3927</td>\n",
       "    </tr>\n",
       "  </tbody>\n",
       "</table>\n",
       "</div>"
      ],
      "text/plain": [
       "          x        y       x_m      y_m\n",
       "0  296.9877 -12.4357  296.9878 -12.4534\n",
       "1  292.9826 -12.4413  292.9826 -12.4551\n",
       "2  288.9774 -12.4470  288.9775 -12.4650\n",
       "3  284.9723 -12.4526  284.9722 -12.3927\n",
       "4  280.9671 -12.4583  280.9670 -12.3927"
      ]
     },
     "execution_count": 26,
     "metadata": {},
     "output_type": "execute_result"
    }
   ],
   "source": [
    "test = pd.read_excel(\"test.xlsx\")\n",
    "test.head()"
   ]
  },
  {
   "cell_type": "code",
   "execution_count": 27,
   "id": "69640aa3-70f0-479c-ac82-0c9e024df4cd",
   "metadata": {},
   "outputs": [
    {
     "data": {
      "text/html": [
       "<div>\n",
       "<style scoped>\n",
       "    .dataframe tbody tr th:only-of-type {\n",
       "        vertical-align: middle;\n",
       "    }\n",
       "\n",
       "    .dataframe tbody tr th {\n",
       "        vertical-align: top;\n",
       "    }\n",
       "\n",
       "    .dataframe thead th {\n",
       "        text-align: right;\n",
       "    }\n",
       "</style>\n",
       "<table border=\"1\" class=\"dataframe\">\n",
       "  <thead>\n",
       "    <tr style=\"text-align: right;\">\n",
       "      <th></th>\n",
       "      <th>x</th>\n",
       "      <th>y</th>\n",
       "      <th>x_m</th>\n",
       "      <th>y_m</th>\n",
       "      <th>prediction</th>\n",
       "    </tr>\n",
       "  </thead>\n",
       "  <tbody>\n",
       "    <tr>\n",
       "      <th>0</th>\n",
       "      <td>296.9877</td>\n",
       "      <td>-12.4357</td>\n",
       "      <td>296.9878</td>\n",
       "      <td>-12.4534</td>\n",
       "      <td>0.950160</td>\n",
       "    </tr>\n",
       "    <tr>\n",
       "      <th>1</th>\n",
       "      <td>292.9826</td>\n",
       "      <td>-12.4413</td>\n",
       "      <td>292.9826</td>\n",
       "      <td>-12.4551</td>\n",
       "      <td>0.977280</td>\n",
       "    </tr>\n",
       "    <tr>\n",
       "      <th>2</th>\n",
       "      <td>288.9774</td>\n",
       "      <td>-12.4470</td>\n",
       "      <td>288.9775</td>\n",
       "      <td>-12.4650</td>\n",
       "      <td>1.005373</td>\n",
       "    </tr>\n",
       "    <tr>\n",
       "      <th>3</th>\n",
       "      <td>284.9723</td>\n",
       "      <td>-12.4526</td>\n",
       "      <td>284.9722</td>\n",
       "      <td>-12.3927</td>\n",
       "      <td>1.023964</td>\n",
       "    </tr>\n",
       "    <tr>\n",
       "      <th>4</th>\n",
       "      <td>280.9671</td>\n",
       "      <td>-12.4583</td>\n",
       "      <td>280.9670</td>\n",
       "      <td>-12.3927</td>\n",
       "      <td>1.050907</td>\n",
       "    </tr>\n",
       "    <tr>\n",
       "      <th>5</th>\n",
       "      <td>276.9620</td>\n",
       "      <td>-12.4640</td>\n",
       "      <td>276.9617</td>\n",
       "      <td>-12.2433</td>\n",
       "      <td>1.060636</td>\n",
       "    </tr>\n",
       "    <tr>\n",
       "      <th>6</th>\n",
       "      <td>272.9568</td>\n",
       "      <td>-12.4696</td>\n",
       "      <td>272.9568</td>\n",
       "      <td>-12.4186</td>\n",
       "      <td>1.107771</td>\n",
       "    </tr>\n",
       "    <tr>\n",
       "      <th>7</th>\n",
       "      <td>268.9517</td>\n",
       "      <td>-12.4753</td>\n",
       "      <td>268.9516</td>\n",
       "      <td>-12.4060</td>\n",
       "      <td>1.133257</td>\n",
       "    </tr>\n",
       "    <tr>\n",
       "      <th>8</th>\n",
       "      <td>264.9466</td>\n",
       "      <td>-12.4809</td>\n",
       "      <td>264.9465</td>\n",
       "      <td>-12.4689</td>\n",
       "      <td>1.167424</td>\n",
       "    </tr>\n",
       "    <tr>\n",
       "      <th>9</th>\n",
       "      <td>260.9423</td>\n",
       "      <td>-12.4861</td>\n",
       "      <td>260.9424</td>\n",
       "      <td>-12.5937</td>\n",
       "      <td>1.208686</td>\n",
       "    </tr>\n",
       "    <tr>\n",
       "      <th>10</th>\n",
       "      <td>256.9381</td>\n",
       "      <td>-12.4912</td>\n",
       "      <td>256.9381</td>\n",
       "      <td>-12.5166</td>\n",
       "      <td>1.226665</td>\n",
       "    </tr>\n",
       "    <tr>\n",
       "      <th>11</th>\n",
       "      <td>252.9338</td>\n",
       "      <td>-12.4964</td>\n",
       "      <td>252.9336</td>\n",
       "      <td>-12.3465</td>\n",
       "      <td>1.233945</td>\n",
       "    </tr>\n",
       "    <tr>\n",
       "      <th>12</th>\n",
       "      <td>248.9296</td>\n",
       "      <td>-12.5016</td>\n",
       "      <td>248.9295</td>\n",
       "      <td>-12.4471</td>\n",
       "      <td>1.272412</td>\n",
       "    </tr>\n",
       "    <tr>\n",
       "      <th>13</th>\n",
       "      <td>244.9253</td>\n",
       "      <td>-12.5067</td>\n",
       "      <td>244.9251</td>\n",
       "      <td>-12.3732</td>\n",
       "      <td>1.290765</td>\n",
       "    </tr>\n",
       "    <tr>\n",
       "      <th>14</th>\n",
       "      <td>240.9211</td>\n",
       "      <td>-12.5119</td>\n",
       "      <td>240.9208</td>\n",
       "      <td>-12.2902</td>\n",
       "      <td>1.308082</td>\n",
       "    </tr>\n",
       "    <tr>\n",
       "      <th>15</th>\n",
       "      <td>236.9168</td>\n",
       "      <td>-12.5170</td>\n",
       "      <td>236.9166</td>\n",
       "      <td>-12.3384</td>\n",
       "      <td>1.340502</td>\n",
       "    </tr>\n",
       "    <tr>\n",
       "      <th>16</th>\n",
       "      <td>232.9140</td>\n",
       "      <td>-12.5301</td>\n",
       "      <td>232.9139</td>\n",
       "      <td>-12.3611</td>\n",
       "      <td>1.370943</td>\n",
       "    </tr>\n",
       "    <tr>\n",
       "      <th>17</th>\n",
       "      <td>228.9058</td>\n",
       "      <td>-12.5292</td>\n",
       "      <td>228.9058</td>\n",
       "      <td>-12.4231</td>\n",
       "      <td>1.404256</td>\n",
       "    </tr>\n",
       "  </tbody>\n",
       "</table>\n",
       "</div>"
      ],
      "text/plain": [
       "           x        y       x_m      y_m  prediction\n",
       "0   296.9877 -12.4357  296.9878 -12.4534    0.950160\n",
       "1   292.9826 -12.4413  292.9826 -12.4551    0.977280\n",
       "2   288.9774 -12.4470  288.9775 -12.4650    1.005373\n",
       "3   284.9723 -12.4526  284.9722 -12.3927    1.023964\n",
       "4   280.9671 -12.4583  280.9670 -12.3927    1.050907\n",
       "5   276.9620 -12.4640  276.9617 -12.2433    1.060636\n",
       "6   272.9568 -12.4696  272.9568 -12.4186    1.107771\n",
       "7   268.9517 -12.4753  268.9516 -12.4060    1.133257\n",
       "8   264.9466 -12.4809  264.9465 -12.4689    1.167424\n",
       "9   260.9423 -12.4861  260.9424 -12.5937    1.208686\n",
       "10  256.9381 -12.4912  256.9381 -12.5166    1.226665\n",
       "11  252.9338 -12.4964  252.9336 -12.3465    1.233945\n",
       "12  248.9296 -12.5016  248.9295 -12.4471    1.272412\n",
       "13  244.9253 -12.5067  244.9251 -12.3732    1.290765\n",
       "14  240.9211 -12.5119  240.9208 -12.2902    1.308082\n",
       "15  236.9168 -12.5170  236.9166 -12.3384    1.340502\n",
       "16  232.9140 -12.5301  232.9139 -12.3611    1.370943\n",
       "17  228.9058 -12.5292  228.9058 -12.4231    1.404256"
      ]
     },
     "execution_count": 27,
     "metadata": {},
     "output_type": "execute_result"
    }
   ],
   "source": [
    "prediction = model(torch.Tensor(test.values))\n",
    "test[\"prediction\"] = prediction.detach().numpy().flatten()\n",
    "test"
   ]
  },
  {
   "cell_type": "code",
   "execution_count": 24,
   "id": "ebf35975-5bed-4abb-a87c-b3eea0428cfc",
   "metadata": {},
   "outputs": [],
   "source": [
    "test.to_csv(\"test_results.csv\", index=False)"
   ]
  },
  {
   "cell_type": "code",
   "execution_count": null,
   "id": "422d781c-4ab8-442f-89e1-3d5fd04511eb",
   "metadata": {},
   "outputs": [],
   "source": []
  }
 ],
 "metadata": {
  "kernelspec": {
   "display_name": "Python 3 (ipykernel)",
   "language": "python",
   "name": "python3"
  },
  "language_info": {
   "codemirror_mode": {
    "name": "ipython",
    "version": 3
   },
   "file_extension": ".py",
   "mimetype": "text/x-python",
   "name": "python",
   "nbconvert_exporter": "python",
   "pygments_lexer": "ipython3",
   "version": "3.8.15"
  }
 },
 "nbformat": 4,
 "nbformat_minor": 5
}
