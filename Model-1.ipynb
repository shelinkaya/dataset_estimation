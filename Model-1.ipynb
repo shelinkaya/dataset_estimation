{
 "cells": [
  {
   "cell_type": "code",
   "execution_count": 1,
   "id": "8a48af8e-1dd8-482c-b87c-e5ebf04acc5d",
   "metadata": {},
   "outputs": [],
   "source": [
    "#Importing required packages\n",
    "\n",
    "import torch\n",
    "import pandas as pd\n",
    "import numpy as np\n",
    "import torch.nn as nn\n",
    "import matplotlib.pyplot as plt\n",
    "from sklearn.model_selection import train_test_split\n",
    "from sklearn.metrics import mean_absolute_error\n"
   ]
  },
  {
   "cell_type": "code",
   "execution_count": 2,
   "id": "70db7dde-768e-4747-b8e7-967df83362c7",
   "metadata": {},
   "outputs": [
    {
     "data": {
      "text/html": [
       "<div>\n",
       "<style scoped>\n",
       "    .dataframe tbody tr th:only-of-type {\n",
       "        vertical-align: middle;\n",
       "    }\n",
       "\n",
       "    .dataframe tbody tr th {\n",
       "        vertical-align: top;\n",
       "    }\n",
       "\n",
       "    .dataframe thead th {\n",
       "        text-align: right;\n",
       "    }\n",
       "</style>\n",
       "<table border=\"1\" class=\"dataframe\">\n",
       "  <thead>\n",
       "    <tr style=\"text-align: right;\">\n",
       "      <th></th>\n",
       "      <th>Stitch_number_modified</th>\n",
       "      <th>Stitch_path_length</th>\n",
       "      <th>x</th>\n",
       "      <th>y</th>\n",
       "      <th>measured_x1</th>\n",
       "      <th>measured_y1</th>\n",
       "      <th>measured_x2</th>\n",
       "      <th>measured_y2</th>\n",
       "      <th>measured_xm</th>\n",
       "      <th>measured_ym</th>\n",
       "      <th>Deviation_tot</th>\n",
       "      <th>Width</th>\n",
       "      <th>Radius_loc</th>\n",
       "      <th>Radius_locav</th>\n",
       "      <th>Radius_locav2</th>\n",
       "      <th>Radius_locav3</th>\n",
       "    </tr>\n",
       "  </thead>\n",
       "  <tbody>\n",
       "    <tr>\n",
       "      <th>0</th>\n",
       "      <td>1</td>\n",
       "      <td>0.0000</td>\n",
       "      <td>511.3638</td>\n",
       "      <td>-19.0811</td>\n",
       "      <td>510.8245</td>\n",
       "      <td>-17.9730</td>\n",
       "      <td>511.8639</td>\n",
       "      <td>-20.1088</td>\n",
       "      <td>511.3442</td>\n",
       "      <td>-19.0409</td>\n",
       "      <td>0.0447</td>\n",
       "      <td>2.3753</td>\n",
       "      <td>inf</td>\n",
       "      <td>299.8505</td>\n",
       "      <td>17.5033</td>\n",
       "      <td>11.7315</td>\n",
       "    </tr>\n",
       "    <tr>\n",
       "      <th>1</th>\n",
       "      <td>1</td>\n",
       "      <td>0.9591</td>\n",
       "      <td>512.3229</td>\n",
       "      <td>-19.0894</td>\n",
       "      <td>511.7820</td>\n",
       "      <td>-18.0891</td>\n",
       "      <td>512.8518</td>\n",
       "      <td>-20.0677</td>\n",
       "      <td>512.3169</td>\n",
       "      <td>-19.0784</td>\n",
       "      <td>0.0125</td>\n",
       "      <td>2.2493</td>\n",
       "      <td>inf</td>\n",
       "      <td>150.5194</td>\n",
       "      <td>15.6020</td>\n",
       "      <td>11.2740</td>\n",
       "    </tr>\n",
       "    <tr>\n",
       "      <th>2</th>\n",
       "      <td>1</td>\n",
       "      <td>1.9183</td>\n",
       "      <td>513.2820</td>\n",
       "      <td>-19.0977</td>\n",
       "      <td>512.7094</td>\n",
       "      <td>-18.1517</td>\n",
       "      <td>513.8795</td>\n",
       "      <td>-20.0851</td>\n",
       "      <td>513.2945</td>\n",
       "      <td>-19.1184</td>\n",
       "      <td>0.0242</td>\n",
       "      <td>2.2598</td>\n",
       "      <td>inf</td>\n",
       "      <td>81.0540</td>\n",
       "      <td>13.9990</td>\n",
       "      <td>10.8555</td>\n",
       "    </tr>\n",
       "    <tr>\n",
       "      <th>3</th>\n",
       "      <td>1</td>\n",
       "      <td>2.9018</td>\n",
       "      <td>514.2654</td>\n",
       "      <td>-19.1060</td>\n",
       "      <td>513.6625</td>\n",
       "      <td>-18.2269</td>\n",
       "      <td>514.9383</td>\n",
       "      <td>-20.0871</td>\n",
       "      <td>514.3004</td>\n",
       "      <td>-19.1570</td>\n",
       "      <td>0.0618</td>\n",
       "      <td>2.2557</td>\n",
       "      <td>-146.6106</td>\n",
       "      <td>45.6545</td>\n",
       "      <td>12.6165</td>\n",
       "      <td>10.4644</td>\n",
       "    </tr>\n",
       "    <tr>\n",
       "      <th>4</th>\n",
       "      <td>1</td>\n",
       "      <td>3.9667</td>\n",
       "      <td>515.3302</td>\n",
       "      <td>-19.1225</td>\n",
       "      <td>514.5880</td>\n",
       "      <td>-18.1910</td>\n",
       "      <td>516.1352</td>\n",
       "      <td>-20.1328</td>\n",
       "      <td>515.3616</td>\n",
       "      <td>-19.1619</td>\n",
       "      <td>0.0504</td>\n",
       "      <td>2.4828</td>\n",
       "      <td>-470.9179</td>\n",
       "      <td>26.2507</td>\n",
       "      <td>11.3705</td>\n",
       "      <td>10.0818</td>\n",
       "    </tr>\n",
       "  </tbody>\n",
       "</table>\n",
       "</div>"
      ],
      "text/plain": [
       "   Stitch_number_modified  Stitch_path_length         x        y  measured_x1  \\\n",
       "0                       1              0.0000  511.3638 -19.0811     510.8245   \n",
       "1                       1              0.9591  512.3229 -19.0894     511.7820   \n",
       "2                       1              1.9183  513.2820 -19.0977     512.7094   \n",
       "3                       1              2.9018  514.2654 -19.1060     513.6625   \n",
       "4                       1              3.9667  515.3302 -19.1225     514.5880   \n",
       "\n",
       "   measured_y1  measured_x2  measured_y2  measured_xm  measured_ym  \\\n",
       "0     -17.9730     511.8639     -20.1088     511.3442     -19.0409   \n",
       "1     -18.0891     512.8518     -20.0677     512.3169     -19.0784   \n",
       "2     -18.1517     513.8795     -20.0851     513.2945     -19.1184   \n",
       "3     -18.2269     514.9383     -20.0871     514.3004     -19.1570   \n",
       "4     -18.1910     516.1352     -20.1328     515.3616     -19.1619   \n",
       "\n",
       "   Deviation_tot   Width  Radius_loc  Radius_locav  Radius_locav2  \\\n",
       "0         0.0447  2.3753         inf      299.8505        17.5033   \n",
       "1         0.0125  2.2493         inf      150.5194        15.6020   \n",
       "2         0.0242  2.2598         inf       81.0540        13.9990   \n",
       "3         0.0618  2.2557   -146.6106       45.6545        12.6165   \n",
       "4         0.0504  2.4828   -470.9179       26.2507        11.3705   \n",
       "\n",
       "   Radius_locav3  \n",
       "0        11.7315  \n",
       "1        11.2740  \n",
       "2        10.8555  \n",
       "3        10.4644  \n",
       "4        10.0818  "
      ]
     },
     "execution_count": 2,
     "metadata": {},
     "output_type": "execute_result"
    }
   ],
   "source": [
    "# cleaned up '#' in txt file before reading -> for correct header\n",
    "df = pd.read_csv(\"testpattern06_d4.0_R3.0_roving.txt\",delim_whitespace=True)\n",
    "df=df.drop(['#'], axis=1)\n",
    "df.head()"
   ]
  },
  {
   "cell_type": "code",
   "execution_count": 3,
   "id": "9d5d863c-d1a7-4d9f-a3e1-45529adbf165",
   "metadata": {},
   "outputs": [
    {
     "name": "stdout",
     "output_type": "stream",
     "text": [
      "<class 'pandas.core.frame.DataFrame'>\n",
      "RangeIndex: 2155 entries, 0 to 2154\n",
      "Data columns (total 16 columns):\n",
      " #   Column                  Non-Null Count  Dtype  \n",
      "---  ------                  --------------  -----  \n",
      " 0   Stitch_number_modified  2155 non-null   int64  \n",
      " 1   Stitch_path_length      2155 non-null   float64\n",
      " 2   x                       2155 non-null   float64\n",
      " 3   y                       2155 non-null   float64\n",
      " 4   measured_x1             2155 non-null   float64\n",
      " 5   measured_y1             2155 non-null   float64\n",
      " 6   measured_x2             2155 non-null   float64\n",
      " 7   measured_y2             2155 non-null   float64\n",
      " 8   measured_xm             2155 non-null   float64\n",
      " 9   measured_ym             2155 non-null   float64\n",
      " 10  Deviation_tot           2155 non-null   float64\n",
      " 11  Width                   2155 non-null   float64\n",
      " 12  Radius_loc              2155 non-null   float64\n",
      " 13  Radius_locav            2155 non-null   float64\n",
      " 14  Radius_locav2           2155 non-null   float64\n",
      " 15  Radius_locav3           2155 non-null   float64\n",
      "dtypes: float64(15), int64(1)\n",
      "memory usage: 269.5 KB\n"
     ]
    }
   ],
   "source": [
    "#checking information of dataset\n",
    "df.info()"
   ]
  },
  {
   "cell_type": "code",
   "execution_count": 4,
   "id": "ab960136-c8ac-4181-8827-6c045d56b1b7",
   "metadata": {
    "scrolled": true
   },
   "outputs": [],
   "source": [
    "#Implementing of slicing window method to the dataset\n",
    "n = 5\n",
    "x_values = np.lib.stride_tricks.sliding_window_view(df['x'].values, n)\n",
    "y_values = np.lib.stride_tricks.sliding_window_view(df['y'].values, n)\n",
    "x_values=x_values-x_values[:,n//2][:,np.newaxis]\n",
    "y_values=y_values-y_values[:,n//2][:,np.newaxis]\n",
    "target = np.lib.stride_tricks.sliding_window_view(df['Deviation_tot'].values, n)[:,n//2].copy()\n",
    "#features = pd.concat([pd.DataFrame(x_values.copy()), pd.DataFrame(y_values.copy())], axis = 1)\n",
    "features = np.concatenate((x_values,y_values), axis=1)\n",
    "# drop 0 columns:\n",
    "features = features[:,[i for i in range(2*n) if i!=n//2 and i!=(n+n//2)]].copy()\n"
   ]
  },
  {
   "cell_type": "code",
   "execution_count": 5,
   "id": "a4c044fb",
   "metadata": {},
   "outputs": [
    {
     "name": "stdout",
     "output_type": "stream",
     "text": [
      "Matrix sizes of input and output data (2151, 8) (2151, 1)\n"
     ]
    }
   ],
   "source": [
    "ind = np.random.permutation(np.arange(len(features))) # random permutation of dataset\n",
    "features = features[ind].copy()\n",
    "target = target[ind].copy()[:,np.newaxis]\n",
    "print(\"Matrix sizes of input and output data\", features.shape, target.shape)"
   ]
  },
  {
   "cell_type": "code",
   "execution_count": 6,
   "id": "6c581ac2",
   "metadata": {},
   "outputs": [],
   "source": [
    "#splitting the dataset into train and test\n",
    "\n",
    "input_data = torch.Tensor(features)\n",
    "target_data = torch.Tensor(target)\n",
    "X_train, X_test, y_train, y_test = train_test_split(input_data, target_data, test_size=0.33)\n"
   ]
  },
  {
   "cell_type": "code",
   "execution_count": 7,
   "id": "de078eb4-6404-4da3-af62-d983c6017656",
   "metadata": {},
   "outputs": [],
   "source": [
    "#CNN structure\n",
    "class MyModel(nn.Module):\n",
    "    def __init__(self, n_features):\n",
    "        super(MyModel, self).__init__()\n",
    "        self.layer1 = nn.Linear(n_features, 16)\n",
    "        self.layer2 = nn.Linear(16, 32)\n",
    "        self.layer3 = nn.Linear(32, 16)\n",
    "        self.layer4 = nn.Linear(16,8)\n",
    "        self.layer5 = nn.Linear(8,1)\n",
    "    def forward(self, x):\n",
    "        x = self.layer1(x)\n",
    "        x = torch.relu(x)\n",
    "        x = self.layer2(x)\n",
    "        x = torch.relu(x)\n",
    "        x = self.layer3(x)\n",
    "        x = torch.relu(x)\n",
    "        x = self.layer4(x)\n",
    "        x = torch.relu(x)\n",
    "        x = self.layer5(x)\n",
    "        return x"
   ]
  },
  {
   "cell_type": "code",
   "execution_count": 8,
   "id": "357b2d92-7f54-478b-a025-68d57fea399f",
   "metadata": {},
   "outputs": [],
   "source": [
    "#compiling the model\n",
    "model = MyModel(n_features=features.shape[1])\n",
    "criterion = nn.MSELoss()\n",
    "optimizer = torch.optim.Adam(model.parameters())\n"
   ]
  },
  {
   "cell_type": "code",
   "execution_count": 9,
   "id": "2cbb710e-e84f-45ed-aeec-81d2c51af272",
   "metadata": {
    "scrolled": true,
    "tags": []
   },
   "outputs": [
    {
     "name": "stdout",
     "output_type": "stream",
     "text": [
      "Epoch 0, Loss: 2.7910919189453125\n",
      "Epoch 10, Loss: 2.6252377033233643\n",
      "Epoch 20, Loss: 2.4249446392059326\n",
      "Epoch 30, Loss: 2.2369813919067383\n",
      "Epoch 40, Loss: 2.1992900371551514\n",
      "Epoch 50, Loss: 2.1428945064544678\n",
      "Epoch 60, Loss: 2.0990302562713623\n",
      "Epoch 70, Loss: 2.035780668258667\n",
      "Epoch 80, Loss: 1.9435425996780396\n",
      "Epoch 90, Loss: 1.8118789196014404\n",
      "Epoch 100, Loss: 1.643856406211853\n",
      "Epoch 110, Loss: 1.460170030593872\n",
      "Epoch 120, Loss: 1.3156661987304688\n",
      "Epoch 130, Loss: 1.2344390153884888\n",
      "Epoch 140, Loss: 1.1764404773712158\n",
      "Epoch 150, Loss: 1.1229444742202759\n",
      "Epoch 160, Loss: 1.0656064748764038\n",
      "Epoch 170, Loss: 1.00240159034729\n",
      "Epoch 180, Loss: 0.9330847263336182\n",
      "Epoch 190, Loss: 0.8521615862846375\n",
      "Epoch 200, Loss: 0.763542890548706\n",
      "Epoch 210, Loss: 0.665502667427063\n",
      "Epoch 220, Loss: 0.561177134513855\n",
      "Epoch 230, Loss: 0.45254072546958923\n",
      "Epoch 240, Loss: 0.35067054629325867\n",
      "Epoch 250, Loss: 0.2640759348869324\n",
      "Epoch 260, Loss: 0.2054159939289093\n",
      "Epoch 270, Loss: 0.17113086581230164\n",
      "Epoch 280, Loss: 0.15071609616279602\n",
      "Epoch 290, Loss: 0.13740850985050201\n",
      "Epoch 300, Loss: 0.12840013206005096\n",
      "Epoch 310, Loss: 0.1221136674284935\n",
      "Epoch 320, Loss: 0.11700434237718582\n",
      "Epoch 330, Loss: 0.1130225658416748\n",
      "Epoch 340, Loss: 0.10973119735717773\n",
      "Epoch 350, Loss: 0.10717324912548065\n",
      "Epoch 360, Loss: 0.10503818094730377\n",
      "Epoch 370, Loss: 0.10321993380784988\n",
      "Epoch 380, Loss: 0.10159461945295334\n",
      "Epoch 390, Loss: 0.10014493763446808\n",
      "Epoch 400, Loss: 0.09898146986961365\n",
      "Epoch 410, Loss: 0.09796302020549774\n",
      "Epoch 420, Loss: 0.0970100536942482\n",
      "Epoch 430, Loss: 0.09609301388263702\n",
      "Epoch 440, Loss: 0.09531313925981522\n",
      "Epoch 450, Loss: 0.09459409862756729\n",
      "Epoch 460, Loss: 0.09391865134239197\n",
      "Epoch 470, Loss: 0.09314924478530884\n",
      "Epoch 480, Loss: 0.09254729002714157\n",
      "Epoch 490, Loss: 0.09194673597812653\n",
      "Epoch 500, Loss: 0.09142183512449265\n",
      "Epoch 510, Loss: 0.09088484942913055\n",
      "Epoch 520, Loss: 0.09038731455802917\n",
      "Epoch 530, Loss: 0.0899658128619194\n",
      "Epoch 540, Loss: 0.08953164517879486\n",
      "Epoch 550, Loss: 0.08914946764707565\n",
      "Epoch 560, Loss: 0.08878316730260849\n",
      "Epoch 570, Loss: 0.08849131315946579\n",
      "Epoch 580, Loss: 0.08813130110502243\n",
      "Epoch 590, Loss: 0.08762174844741821\n",
      "Epoch 600, Loss: 0.08732455223798752\n",
      "Epoch 610, Loss: 0.08695534616708755\n",
      "Epoch 620, Loss: 0.08668816834688187\n",
      "Epoch 630, Loss: 0.08638343960046768\n",
      "Epoch 640, Loss: 0.08605790883302689\n",
      "Epoch 650, Loss: 0.08582253754138947\n",
      "Epoch 660, Loss: 0.08551742136478424\n",
      "Epoch 670, Loss: 0.0852404460310936\n",
      "Epoch 680, Loss: 0.08485833555459976\n",
      "Epoch 690, Loss: 0.08452747762203217\n",
      "Epoch 700, Loss: 0.08415985107421875\n",
      "Epoch 710, Loss: 0.0838218480348587\n",
      "Epoch 720, Loss: 0.08351720124483109\n",
      "Epoch 730, Loss: 0.08328042924404144\n",
      "Epoch 740, Loss: 0.0829562395811081\n",
      "Epoch 750, Loss: 0.08261342346668243\n",
      "Epoch 760, Loss: 0.08231160044670105\n",
      "Epoch 770, Loss: 0.08202285319566727\n",
      "Epoch 780, Loss: 0.08173275738954544\n",
      "Epoch 790, Loss: 0.08149196207523346\n",
      "Epoch 800, Loss: 0.0812290832400322\n",
      "Epoch 810, Loss: 0.08095260709524155\n",
      "Epoch 820, Loss: 0.08066198974847794\n",
      "Epoch 830, Loss: 0.08041249960660934\n",
      "Epoch 840, Loss: 0.08005744963884354\n",
      "Epoch 850, Loss: 0.07971701771020889\n",
      "Epoch 860, Loss: 0.07941406965255737\n",
      "Epoch 870, Loss: 0.07915140688419342\n",
      "Epoch 880, Loss: 0.07882769405841827\n",
      "Epoch 890, Loss: 0.07861500978469849\n",
      "Epoch 900, Loss: 0.07830119878053665\n",
      "Epoch 910, Loss: 0.07801292091608047\n",
      "Epoch 920, Loss: 0.07784030586481094\n",
      "Epoch 930, Loss: 0.07747425138950348\n",
      "Epoch 940, Loss: 0.07736597210168839\n",
      "Epoch 950, Loss: 0.07699157297611237\n",
      "Epoch 960, Loss: 0.0766458585858345\n",
      "Epoch 970, Loss: 0.07642539590597153\n",
      "Epoch 980, Loss: 0.07623766362667084\n",
      "Epoch 990, Loss: 0.07581623643636703\n",
      "Epoch 1000, Loss: 0.07559455931186676\n",
      "Epoch 1010, Loss: 0.07530606538057327\n",
      "Epoch 1020, Loss: 0.0750502422451973\n",
      "Epoch 1030, Loss: 0.07493642717599869\n",
      "Epoch 1040, Loss: 0.07459572702646255\n",
      "Epoch 1050, Loss: 0.07438185811042786\n",
      "Epoch 1060, Loss: 0.07395735383033752\n",
      "Epoch 1070, Loss: 0.07368506491184235\n",
      "Epoch 1080, Loss: 0.07370728999376297\n",
      "Epoch 1090, Loss: 0.07320685684680939\n",
      "Epoch 1100, Loss: 0.07292197644710541\n",
      "Epoch 1110, Loss: 0.07285762578248978\n",
      "Epoch 1120, Loss: 0.07274723798036575\n",
      "Epoch 1130, Loss: 0.07216963171958923\n",
      "Epoch 1140, Loss: 0.07204324007034302\n",
      "Epoch 1150, Loss: 0.07157602161169052\n",
      "Epoch 1160, Loss: 0.07128139585256577\n",
      "Epoch 1170, Loss: 0.07105837017297745\n",
      "Epoch 1180, Loss: 0.07075005769729614\n",
      "Epoch 1190, Loss: 0.07054934650659561\n",
      "Epoch 1200, Loss: 0.07021664083003998\n",
      "Epoch 1210, Loss: 0.06996289640665054\n",
      "Epoch 1220, Loss: 0.06979140639305115\n",
      "Epoch 1230, Loss: 0.06958276033401489\n",
      "Epoch 1240, Loss: 0.06927170604467392\n",
      "Epoch 1250, Loss: 0.0688822865486145\n",
      "Epoch 1260, Loss: 0.0685340166091919\n",
      "Epoch 1270, Loss: 0.06831073760986328\n",
      "Epoch 1280, Loss: 0.06819729506969452\n",
      "Epoch 1290, Loss: 0.06793688982725143\n",
      "Epoch 1300, Loss: 0.06773491948843002\n",
      "Epoch 1310, Loss: 0.06753256171941757\n",
      "Epoch 1320, Loss: 0.0672808587551117\n",
      "Epoch 1330, Loss: 0.06695836782455444\n",
      "Epoch 1340, Loss: 0.06678937375545502\n",
      "Epoch 1350, Loss: 0.06681361049413681\n",
      "Epoch 1360, Loss: 0.0665149986743927\n",
      "Epoch 1370, Loss: 0.06612618267536163\n",
      "Epoch 1380, Loss: 0.06597709655761719\n",
      "Epoch 1390, Loss: 0.06588577479124069\n",
      "Epoch 1400, Loss: 0.06538069248199463\n",
      "Epoch 1410, Loss: 0.06531210243701935\n",
      "Epoch 1420, Loss: 0.06533583998680115\n",
      "Epoch 1430, Loss: 0.06756062805652618\n",
      "Epoch 1440, Loss: 0.06587323546409607\n",
      "Epoch 1450, Loss: 0.06454488635063171\n",
      "Epoch 1460, Loss: 0.06415464729070663\n",
      "Epoch 1470, Loss: 0.06404802203178406\n",
      "Epoch 1480, Loss: 0.06376136839389801\n",
      "Epoch 1490, Loss: 0.06351590156555176\n",
      "Epoch 1500, Loss: 0.06336545199155807\n",
      "Epoch 1510, Loss: 0.06320445984601974\n",
      "Epoch 1520, Loss: 0.06295989453792572\n",
      "Epoch 1530, Loss: 0.06289917230606079\n",
      "Epoch 1540, Loss: 0.06254418194293976\n",
      "Epoch 1550, Loss: 0.06232111528515816\n",
      "Epoch 1560, Loss: 0.06213744357228279\n",
      "Epoch 1570, Loss: 0.06215227022767067\n",
      "Epoch 1580, Loss: 0.06181516870856285\n",
      "Epoch 1590, Loss: 0.061583925038576126\n",
      "Epoch 1600, Loss: 0.0613919198513031\n",
      "Epoch 1610, Loss: 0.06125859543681145\n",
      "Epoch 1620, Loss: 0.061076100915670395\n",
      "Epoch 1630, Loss: 0.06085410714149475\n",
      "Epoch 1640, Loss: 0.06066524237394333\n",
      "Epoch 1650, Loss: 0.0604601614177227\n",
      "Epoch 1660, Loss: 0.060237955302000046\n",
      "Epoch 1670, Loss: 0.06009545922279358\n",
      "Epoch 1680, Loss: 0.0599534846842289\n",
      "Epoch 1690, Loss: 0.05973915755748749\n",
      "Epoch 1700, Loss: 0.05949147045612335\n",
      "Epoch 1710, Loss: 0.05954216420650482\n",
      "Epoch 1720, Loss: 0.059106357395648956\n",
      "Epoch 1730, Loss: 0.05896863341331482\n",
      "Epoch 1740, Loss: 0.05893518775701523\n",
      "Epoch 1750, Loss: 0.05857684835791588\n",
      "Epoch 1760, Loss: 0.05837879702448845\n",
      "Epoch 1770, Loss: 0.05840308964252472\n",
      "Epoch 1780, Loss: 0.05830538645386696\n",
      "Epoch 1790, Loss: 0.058304350823163986\n",
      "Epoch 1800, Loss: 0.05823586881160736\n",
      "Epoch 1810, Loss: 0.05772800371050835\n",
      "Epoch 1820, Loss: 0.057625386863946915\n",
      "Epoch 1830, Loss: 0.05712997913360596\n",
      "Epoch 1840, Loss: 0.05704522505402565\n",
      "Epoch 1850, Loss: 0.05679701641201973\n",
      "Epoch 1860, Loss: 0.056397031992673874\n",
      "Epoch 1870, Loss: 0.05612528324127197\n",
      "Epoch 1880, Loss: 0.05592294782400131\n",
      "Epoch 1890, Loss: 0.055666372179985046\n",
      "Epoch 1900, Loss: 0.055821873247623444\n",
      "Epoch 1910, Loss: 0.05532994866371155\n",
      "Epoch 1920, Loss: 0.055196624249219894\n",
      "Epoch 1930, Loss: 0.05478142574429512\n",
      "Epoch 1940, Loss: 0.0545155331492424\n",
      "Epoch 1950, Loss: 0.05435781553387642\n",
      "Epoch 1960, Loss: 0.05423922836780548\n",
      "Epoch 1970, Loss: 0.05406562611460686\n",
      "Epoch 1980, Loss: 0.05396343395113945\n",
      "Epoch 1990, Loss: 0.0534098781645298\n",
      "Epoch 2000, Loss: 0.05334807559847832\n",
      "Epoch 2010, Loss: 0.052876245230436325\n",
      "Epoch 2020, Loss: 0.05247732996940613\n",
      "Epoch 2030, Loss: 0.05214598774909973\n",
      "Epoch 2040, Loss: 0.05198228359222412\n",
      "Epoch 2050, Loss: 0.05173104628920555\n",
      "Epoch 2060, Loss: 0.05185514688491821\n",
      "Epoch 2070, Loss: 0.05143385007977486\n",
      "Epoch 2080, Loss: 0.05112391337752342\n",
      "Epoch 2090, Loss: 0.050783999264240265\n",
      "Epoch 2100, Loss: 0.05056142434477806\n",
      "Epoch 2110, Loss: 0.050392139703035355\n",
      "Epoch 2120, Loss: 0.05025452747941017\n",
      "Epoch 2130, Loss: 0.04972311854362488\n",
      "Epoch 2140, Loss: 0.04966915771365166\n",
      "Epoch 2150, Loss: 0.04983007162809372\n",
      "Epoch 2160, Loss: 0.04936222359538078\n",
      "Epoch 2170, Loss: 0.049154747277498245\n",
      "Epoch 2180, Loss: 0.04846327379345894\n",
      "Epoch 2190, Loss: 0.04778971150517464\n",
      "Epoch 2200, Loss: 0.04812496900558472\n",
      "Epoch 2210, Loss: 0.047172870486974716\n",
      "Epoch 2220, Loss: 0.0471162386238575\n",
      "Epoch 2230, Loss: 0.04679390415549278\n",
      "Epoch 2240, Loss: 0.046719931066036224\n",
      "Epoch 2250, Loss: 0.04628724232316017\n",
      "Epoch 2260, Loss: 0.046719327569007874\n",
      "Epoch 2270, Loss: 0.046192411333322525\n",
      "Epoch 2280, Loss: 0.0456225648522377\n",
      "Epoch 2290, Loss: 0.04520702362060547\n",
      "Epoch 2300, Loss: 0.04483482614159584\n",
      "Epoch 2310, Loss: 0.04467020183801651\n",
      "Epoch 2320, Loss: 0.04438840597867966\n",
      "Epoch 2330, Loss: 0.04413755238056183\n",
      "Epoch 2340, Loss: 0.04416879266500473\n",
      "Epoch 2350, Loss: 0.043906088918447495\n",
      "Epoch 2360, Loss: 0.04385196045041084\n",
      "Epoch 2370, Loss: 0.044472161680459976\n",
      "Epoch 2380, Loss: 0.044133760035037994\n",
      "Epoch 2390, Loss: 0.045866191387176514\n",
      "Epoch 2400, Loss: 0.0442773662507534\n",
      "Epoch 2410, Loss: 0.04305744543671608\n",
      "Epoch 2420, Loss: 0.04301842302083969\n",
      "Epoch 2430, Loss: 0.04237411916255951\n",
      "Epoch 2440, Loss: 0.04201812297105789\n",
      "Epoch 2450, Loss: 0.04187411442399025\n",
      "Epoch 2460, Loss: 0.041733451187610626\n",
      "Epoch 2470, Loss: 0.041510675102472305\n",
      "Epoch 2480, Loss: 0.041317541152238846\n",
      "Epoch 2490, Loss: 0.041192494332790375\n",
      "Epoch 2500, Loss: 0.04104223847389221\n",
      "Epoch 2510, Loss: 0.04090346768498421\n",
      "Epoch 2520, Loss: 0.040708448737859726\n",
      "Epoch 2530, Loss: 0.04051109030842781\n",
      "Epoch 2540, Loss: 0.04042905569076538\n",
      "Epoch 2550, Loss: 0.04025514796376228\n",
      "Epoch 2560, Loss: 0.040125373750925064\n",
      "Epoch 2570, Loss: 0.03999541699886322\n",
      "Epoch 2580, Loss: 0.039830081164836884\n",
      "Epoch 2590, Loss: 0.03996351733803749\n",
      "Epoch 2600, Loss: 0.03972962871193886\n",
      "Epoch 2610, Loss: 0.0396055206656456\n",
      "Epoch 2620, Loss: 0.03933538496494293\n",
      "Epoch 2630, Loss: 0.03936498239636421\n",
      "Epoch 2640, Loss: 0.03926292061805725\n",
      "Epoch 2650, Loss: 0.03918857499957085\n",
      "Epoch 2660, Loss: 0.03899599611759186\n",
      "Epoch 2670, Loss: 0.03883957117795944\n",
      "Epoch 2680, Loss: 0.03860878944396973\n",
      "Epoch 2690, Loss: 0.03851304203271866\n",
      "Epoch 2700, Loss: 0.03858695551753044\n",
      "Epoch 2710, Loss: 0.03859469294548035\n",
      "Epoch 2720, Loss: 0.03823220729827881\n",
      "Epoch 2730, Loss: 0.03793911263346672\n",
      "Epoch 2740, Loss: 0.0377972312271595\n",
      "Epoch 2750, Loss: 0.037724949419498444\n",
      "Epoch 2760, Loss: 0.037677984684705734\n",
      "Epoch 2770, Loss: 0.03752416372299194\n",
      "Epoch 2780, Loss: 0.03734390437602997\n",
      "Epoch 2790, Loss: 0.03731615096330643\n",
      "Epoch 2800, Loss: 0.037240222096443176\n",
      "Epoch 2810, Loss: 0.03743809461593628\n",
      "Epoch 2820, Loss: 0.037241172045469284\n",
      "Epoch 2830, Loss: 0.0369102880358696\n",
      "Epoch 2840, Loss: 0.03697565197944641\n",
      "Epoch 2850, Loss: 0.03675767034292221\n",
      "Epoch 2860, Loss: 0.036431800574064255\n",
      "Epoch 2870, Loss: 0.03631104528903961\n",
      "Epoch 2880, Loss: 0.036708418279886246\n",
      "Epoch 2890, Loss: 0.03697299584746361\n",
      "Epoch 2900, Loss: 0.03675144165754318\n",
      "Epoch 2910, Loss: 0.03611239045858383\n",
      "Epoch 2920, Loss: 0.03586742281913757\n",
      "Epoch 2930, Loss: 0.03579433262348175\n",
      "Epoch 2940, Loss: 0.035551637411117554\n",
      "Epoch 2950, Loss: 0.03599248453974724\n",
      "Epoch 2960, Loss: 0.035849157720804214\n",
      "Epoch 2970, Loss: 0.035500138998031616\n",
      "Epoch 2980, Loss: 0.03551962226629257\n",
      "Epoch 2990, Loss: 0.035557616502046585\n"
     ]
    }
   ],
   "source": [
    "#Training the models\n",
    "\n",
    "losses = []\n",
    "for epoch in range(3000):\n",
    "\n",
    "    # Forward pass\n",
    "    output = model(input_data)\n",
    "\n",
    "    # Compute loss\n",
    "    loss = criterion(output, target_data)\n",
    "    #r\n",
    "\n",
    "\n",
    "    # Backward pass and update\n",
    "    optimizer.zero_grad()\n",
    "    loss.backward()\n",
    "\n",
    "    optimizer.step()\n",
    "\n",
    " # Print loss\n",
    "    if epoch % 10 == 0:\n",
    "       losses.append(float(loss.item()))\n",
    "       print(f'Epoch {epoch}, Loss: {loss.item()}')"
   ]
  },
  {
   "cell_type": "code",
   "execution_count": 10,
   "id": "b8dd73bf-0b8e-4946-84e6-1059f21afb23",
   "metadata": {},
   "outputs": [
    {
     "data": {
      "text/plain": [
       "[<matplotlib.lines.Line2D at 0x1a15210cac0>]"
      ]
     },
     "execution_count": 10,
     "metadata": {},
     "output_type": "execute_result"
    },
    {
     "data": {
      "image/png": "[encoded data removed]",
      "text/plain": [
       "<Figure size 640x480 with 1 Axes>"
      ]
     },
     "metadata": {},
     "output_type": "display_data"
    }
   ],
   "source": [
    "#plotting the losses\n",
    "plt.plot(losses)\n"
   ]
  },
  {
   "cell_type": "markdown",
   "id": "bfc42d04-8d7c-4ef6-ba41-4d0c39f9b86d",
   "metadata": {},
   "source": [
    "### Evaluating the model over the test data"
   ]
  },
  {
   "cell_type": "code",
   "execution_count": 11,
   "id": "5849fdcc-e675-4465-8646-f9bddabce949",
   "metadata": {},
   "outputs": [
    {
     "name": "stdout",
     "output_type": "stream",
     "text": [
      "MSE over the model prediction: 0.13182919383078526\n"
     ]
    }
   ],
   "source": [
    "y_pred = model(X_test)\n",
    "print(f\"MSE over the model prediction: {mean_absolute_error(y_test.tolist(), y_pred.tolist())}\")"
   ]
  },
  {
   "cell_type": "code",
   "execution_count": 12,
   "id": "5e1e8445",
   "metadata": {},
   "outputs": [
    {
     "data": {
      "text/plain": [
       "array([0.12966792, 0.13704647, 0.08017336, ..., 0.26944834, 0.20074947,\n",
       "       0.24333756], dtype=float32)"
      ]
     },
     "execution_count": 12,
     "metadata": {},
     "output_type": "execute_result"
    }
   ],
   "source": [
    "resort = np.argsort(ind)\n",
    "test= features[resort,:]\n",
    "prediction = model(torch.Tensor(test))[:,0]\n",
    "test = prediction.detach().numpy().flatten()\n",
    "test"
   ]
  },
  {
   "cell_type": "code",
   "execution_count": 13,
   "id": "3bd80508",
   "metadata": {},
   "outputs": [
    {
     "data": {
      "text/plain": [
       "array([0.0242, 0.0618, 0.0504, ..., 0.111 , 0.0239, 0.0189])"
      ]
     },
     "execution_count": 13,
     "metadata": {},
     "output_type": "execute_result"
    }
   ],
   "source": [
    "target[resort,0]"
   ]
  },
  {
   "cell_type": "code",
   "execution_count": 14,
   "id": "a359c53d",
   "metadata": {},
   "outputs": [
    {
     "data": {
      "text/plain": [
       "[<matplotlib.lines.Line2D at 0x1a1529ef610>]"
      ]
     },
     "execution_count": 14,
     "metadata": {},
     "output_type": "execute_result"
    },
    {
     "data": {
      "image/png": "[encoded data removed]",
      "text/plain": [
       "<Figure size 640x480 with 1 Axes>"
      ]
     },
     "metadata": {},
     "output_type": "display_data"
    }
   ],
   "source": [
    "# plot prediction and difference between prediction and actual target\n",
    "plt.plot(test)\n",
    "plt.plot(target[resort,0])"
   ]
  },
  {
   "cell_type": "markdown",
   "id": "661ebebd-4cd7-4967-912f-5252c13e6a4c",
   "metadata": {},
   "source": [
    "### Testing over the test data"
   ]
  },
  {
   "cell_type": "code",
   "execution_count": 15,
   "id": "eb4f5892",
   "metadata": {},
   "outputs": [
    {
     "data": {
      "text/plain": [
       "[<matplotlib.lines.Line2D at 0x1a152863220>]"
      ]
     },
     "execution_count": 15,
     "metadata": {},
     "output_type": "execute_result"
    },
    {
     "data": {
      "image/png": "[encoded data removed]",
      "text/plain": [
       "<Figure size 640x480 with 1 Axes>"
      ]
     },
     "metadata": {},
     "output_type": "display_data"
    }
   ],
   "source": [
    "plt.plot(test)\n",
    "plt.plot(test-target[resort,0])"
   ]
  },
  {
   "cell_type": "code",
   "execution_count": null,
   "id": "00fba87c",
   "metadata": {},
   "outputs": [],
   "source": []
  }
 ],
 "metadata": {
  "kernelspec": {
   "display_name": "base",
   "language": "python",
   "name": "python3"
  },
  "language_info": {
   "codemirror_mode": {
    "name": "ipython",
    "version": 3
   },
   "file_extension": ".py",
   "mimetype": "text/x-python",
   "name": "python",
   "nbconvert_exporter": "python",
   "pygments_lexer": "ipython3",
   "version": "3.9.13"
  },
  "vscode": {
   "interpreter": {
    "hash": "411446a7edab58371acca640d5cf3643786eee96ba471d744732126167da67ea"
   }
  }
 },
 "nbformat": 4,
 "nbformat_minor": 5
}
